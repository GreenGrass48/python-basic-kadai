{
  "nbformat": 4,
  "nbformat_minor": 0,
  "metadata": {
    "colab": {
      "provenance": []
    },
    "kernelspec": {
      "name": "python3",
      "display_name": "Python 3"
    },
    "language_info": {
      "name": "python"
    }
  },
  "cells": [
    {
      "cell_type": "code",
      "execution_count": 18,
      "metadata": {
        "id": "sKI6XzpY65hr"
      },
      "outputs": [],
      "source": [
        "class Human:\n",
        "    def __init__(self,name,age):\n",
        "        self.name = name\n",
        "        self.age = age\n",
        "    def check_adult(self):\n",
        "        if self.age >= 20:\n",
        "            is_adult = \"大人\"\n",
        "        else:\n",
        "            is_adult = \"大人ではない\"\n",
        "        print(f\"{self.name}は{is_adult}です\")"
      ]
    },
    {
      "cell_type": "code",
      "source": [
        "registers = [[\"Takeshi\", 58],[\"Masako\",53],[\"Yuka\", 26],[\"Komoni\", 22],[\"Shotaro\", 18]]\n",
        "humans = []\n",
        "print(registers)\n",
        "\n",
        "for register in registers:\n",
        "    # print(register)\n",
        "    humans.append(Human(register[0],register[1]))\n",
        "\n",
        "for human in humans:\n",
        "    # print(human.name)\n",
        "    # print(human.age)\n",
        "    human.check_adult()"
      ],
      "metadata": {
        "colab": {
          "base_uri": "https://localhost:8080/"
        },
        "id": "Lsi459658crJ",
        "outputId": "93be1300-6d4d-4e85-de30-2fee2a8b9123"
      },
      "execution_count": 20,
      "outputs": [
        {
          "output_type": "stream",
          "name": "stdout",
          "text": [
            "[['Takeshi', 58], ['Masako', 53], ['Yuka', 26], ['Komoni', 22], ['Shotaro', 18]]\n",
            "Takeshiは大人です\n",
            "Masakoは大人です\n",
            "Yukaは大人です\n",
            "Komoniは大人です\n",
            "Shotaroは大人ではないです\n"
          ]
        }
      ]
    },
    {
      "cell_type": "code",
      "source": [],
      "metadata": {
        "id": "cvpVqSOL83nl"
      },
      "execution_count": null,
      "outputs": []
    }
  ]
}