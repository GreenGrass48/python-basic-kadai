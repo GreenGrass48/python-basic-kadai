{
  "nbformat": 4,
  "nbformat_minor": 0,
  "metadata": {
    "colab": {
      "provenance": []
    },
    "kernelspec": {
      "name": "python3",
      "display_name": "Python 3"
    },
    "language_info": {
      "name": "python"
    }
  },
  "cells": [
    {
      "cell_type": "code",
      "execution_count": 1,
      "metadata": {
        "colab": {
          "base_uri": "https://localhost:8080/"
        },
        "id": "qPQvd_m64MwU",
        "outputId": "885aa9df-77a4-45e6-dcf8-15d4802aa892"
      },
      "outputs": [
        {
          "output_type": "stream",
          "name": "stdout",
          "text": [
            "330.0\n"
          ]
        }
      ],
      "source": [
        "price1 = 100\n",
        "price2 = 200\n",
        "\n",
        "def total():\n",
        "    tax = 1.1\n",
        "    # tax は　ローカル変数なので、関数内で使用する。今回は帰り値の算出で使用。\n",
        "    # price1, price2 はグローバル変数。グローバル変数は関数内でも使用可能。\n",
        "    return (price1 + price2) * tax\n",
        "\n",
        "print (total() )\n"
      ]
    },
    {
      "cell_type": "code",
      "source": [],
      "metadata": {
        "id": "d4hz4ZrX4tEN"
      },
      "execution_count": null,
      "outputs": []
    }
  ]
}