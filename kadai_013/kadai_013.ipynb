{
  "nbformat": 4,
  "nbformat_minor": 0,
  "metadata": {
    "colab": {
      "provenance": []
    },
    "kernelspec": {
      "name": "python3",
      "display_name": "Python 3"
    },
    "language_info": {
      "name": "python"
    }
  },
  "cells": [
    {
      "cell_type": "code",
      "execution_count": 3,
      "metadata": {
        "colab": {
          "base_uri": "https://localhost:8080/"
        },
        "id": "uPxO4EPMZiMG",
        "outputId": "5685694c-6db4-4788-b602-c85f5ac210b1"
      },
      "outputs": [
        {
          "output_type": "stream",
          "name": "stdout",
          "text": [
            "1100.0\n"
          ]
        }
      ],
      "source": [
        "def calc_consumption_tax(price, consumption_tax_rate):\n",
        "    return price * ( 1 + consumption_tax_rate / 100 )\n",
        "\n",
        "print(calc_consumption_tax(1000, 10))"
      ]
    },
    {
      "cell_type": "code",
      "source": [],
      "metadata": {
        "id": "dIKdwVxla5Wc"
      },
      "execution_count": null,
      "outputs": []
    }
  ]
}