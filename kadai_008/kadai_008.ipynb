{
  "nbformat": 4,
  "nbformat_minor": 0,
  "metadata": {
    "colab": {
      "provenance": []
    },
    "kernelspec": {
      "name": "python3",
      "display_name": "Python 3"
    },
    "language_info": {
      "name": "python"
    }
  },
  "cells": [
    {
      "cell_type": "code",
      "execution_count": 38,
      "metadata": {
        "colab": {
          "base_uri": "https://localhost:8080/"
        },
        "id": "Mo6a8FGyXsdV",
        "outputId": "381bed8f-c6cd-431c-f50e-82e7d2b9f9a9"
      },
      "outputs": [
        {
          "output_type": "stream",
          "name": "stdout",
          "text": [
            "46\n"
          ]
        }
      ],
      "source": [
        "import random\n",
        "var = random.randint(0,100)\n",
        "\n",
        "if var % 15 == 0:\n",
        "    txt = \"FizzBuzz\"\n",
        "elif var % 3 == 0:\n",
        "    txt = \"Fizz\"\n",
        "elif var % 5 == 0:\n",
        "    txt = \"Buzz\"\n",
        "else:\n",
        "    txt = var\n",
        "\n",
        "print(txt)"
      ]
    },
    {
      "cell_type": "code",
      "source": [],
      "metadata": {
        "id": "qjJQcxVxYW3H"
      },
      "execution_count": 30,
      "outputs": []
    }
  ]
}